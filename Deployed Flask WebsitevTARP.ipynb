{
 "cells": [
  {
   "cell_type": "markdown",
   "metadata": {},
   "source": [
    "# H20.AI website\n",
    "---\n",
    "This notebook builds a flask model to deploy the **`Kanmani`  ANN model** into a localhost website "
   ]
  },
  {
   "cell_type": "markdown",
   "metadata": {},
   "source": [
    "# History\n",
    "\n",
    "The `kanmani` model, an integration of the `LSTM`-`CNN1D` ensembled submodels built for 4 reservoirs, is made to learn from the 2004-2018 reservoir datasets, and is tested against the original outflow. After coining the model as **perfect**, we tend to move to post-production, ie, towards launching our model in the website"
   ]
  },
  {
   "cell_type": "markdown",
   "metadata": {},
   "source": [
    "## STEP 0: Prepare essentials\n",
    "1. Import libraries\n",
    "2. Import Kanmani ANN model\n",
    "3. Check model summary"
   ]
  },
  {
   "cell_type": "code",
   "execution_count": 1,
   "metadata": {},
   "outputs": [
    {
     "name": "stderr",
     "output_type": "stream",
     "text": [
      "C:\\Users\\R. Senthil Kumar\\anaconda3\\lib\\site-packages\\numpy\\_distributor_init.py:32: UserWarning: loaded more than 1 DLL from .libs:\n",
      "C:\\Users\\R. Senthil Kumar\\anaconda3\\lib\\site-packages\\numpy\\.libs\\libopenblas.TXA6YQSD3GCQQC22GEQ54J2UDCXDXHWN.gfortran-win_amd64.dll\n",
      "C:\\Users\\R. Senthil Kumar\\anaconda3\\lib\\site-packages\\numpy\\.libs\\libopenblas.WCDJNK7YVMPZQ2ME2ZZHJJRJ3JIKNDB7.gfortran-win_amd64.dll\n",
      "  stacklevel=1)\n"
     ]
    },
    {
     "name": "stdout",
     "output_type": "stream",
     "text": [
      "Done importing essentials\n",
      "\n",
      "\n",
      " Chembarambaakam :\n",
      "\n",
      "            nth day in year  Water Level (mcft)  Inflow (cusecs)  \\\n",
      "Date                                                               \n",
      "27/12/2019              360              1689.0            402.0   \n",
      "28/12/2019              361              1718.0            402.0   \n",
      "29/12/2019              362              1712.0              0.0   \n",
      "30/12/2019              363              1706.0              0.0   \n",
      "31/12/2019              364              1700.0              0.0   \n",
      "\n",
      "            Rainfall (mm)  Outflow (cusecs)  \n",
      "Date                                         \n",
      "27/12/2019            0.0              67.0  \n",
      "28/12/2019            0.0              67.0  \n",
      "29/12/2019            0.0              67.0  \n",
      "30/12/2019            0.0              67.0  \n",
      "31/12/2019           13.0              67.0  \n",
      "\n",
      "\n",
      " Chozhavaram :\n",
      "\n",
      "            nth day in year  Water Level (mcft)  Inflow (cusecs)  \\\n",
      "Date                                                               \n",
      "27/12/2019              360                81.0              0.0   \n",
      "28/12/2019              361                75.0              0.0   \n",
      "29/12/2019              362                72.0              0.0   \n",
      "30/12/2019              363                70.0              0.0   \n",
      "31/12/2019              364                69.0              0.0   \n",
      "\n",
      "            Rainfall (mm)  Outflow (cusecs)  \n",
      "Date                                         \n",
      "27/12/2019            0.0              75.0  \n",
      "28/12/2019            0.0              70.0  \n",
      "29/12/2019            0.0              35.0  \n",
      "30/12/2019           14.0              23.0  \n",
      "31/12/2019            4.0              12.0  \n",
      "\n",
      "\n",
      " Poondi :\n",
      "\n",
      "            nth day in year  Water Level (mcft)  Inflow (cusecs)  \\\n",
      "Date                                                               \n",
      "27/12/2019            360.0              1450.0            476.0   \n",
      "28/12/2019            361.0              1438.0            389.0   \n",
      "29/12/2019            362.0              1436.0            371.0   \n",
      "30/12/2019            363.0              1434.0            371.0   \n",
      "31/12/2019            364.0              1430.0            348.0   \n",
      "\n",
      "            Rainfall (mm)  Outflow (cusecs)  \n",
      "Date                                         \n",
      "27/12/2019            0.0             533.0  \n",
      "28/12/2019            0.0             528.0  \n",
      "29/12/2019            0.0             393.0  \n",
      "30/12/2019            0.0             394.0  \n",
      "31/12/2019            0.0             394.0  \n",
      "\n",
      "\n",
      " RedHills :\n",
      "\n",
      "            nth day in year  Water Level (mcft)  Inflow (cusecs)  \\\n",
      "Date                                                               \n",
      "27/12/2019              360              2393.0             70.0   \n",
      "28/12/2019              361              2391.0             67.0   \n",
      "29/12/2019              362              2395.0            342.0   \n",
      "30/12/2019              363              2416.0            331.0   \n",
      "31/12/2019              364              2436.0            321.0   \n",
      "\n",
      "            Rainfall (mm)  Outflow (cusecs)  \n",
      "Date                                         \n",
      "27/12/2019            0.0              89.0  \n",
      "28/12/2019            0.0              89.0  \n",
      "29/12/2019            0.0              89.0  \n",
      "30/12/2019           16.0              89.0  \n",
      "31/12/2019            1.0              89.0  \n"
     ]
    }
   ],
   "source": [
    "from flask import Flask, redirect, url_for, request\n",
    "import pandas as pd\n",
    "import tensorflow as tf\n",
    "import numpy as np\n",
    "from datetime import datetime  \n",
    "from tensorflow.keras import models\n",
    "import requests\n",
    "from datetime import datetime  \n",
    "from datetime import timedelta  \n",
    "\n",
    "modelv2=models.load_model('V-D-AL.h5')\n",
    "print('Done importing essentials')\n",
    "dictionary={\n",
    "    'Chembarambaakam':0,\n",
    "    'Chozhavaram':1,\n",
    "    'Poondi':2,\n",
    "    'RedHills':3\n",
    "}\n",
    "revdict={\n",
    "   \n",
    "    0:'Chembarambaakam',\n",
    "    1:'Chozhavaram',\n",
    "    2:'Poondi',\n",
    "    3:'RedHills'\n",
    "}\n",
    "dianna=[]\n",
    "HOMEDIR='D:\\Semester 7\\TARP\\datafolder\\\\'\n",
    "dianna.append(pd.read_csv(HOMEDIR+'CHdianna2.csv',na_values=-1))\n",
    "dianna.append(pd.read_csv(HOMEDIR+'CZdianna2.csv',na_values=-1))\n",
    "dianna.append(pd.read_csv(HOMEDIR+'PNdianna2.csv',na_values=-1))\n",
    "dianna.append(pd.read_csv(HOMEDIR+'RHdianna2.csv',na_values=-1))\n",
    "for i in range(0,4):\n",
    "    print('\\n\\n',revdict[i],':\\n')\n",
    "    dianna[i]=dianna[i].dropna()\n",
    "    dianna[i].rename(columns={\"Storage (mcft)\":\"Water Level (mcft)\"},inplace=True)\n",
    "    dianna[i]=dianna[i].reset_index(drop=True)\n",
    "    dianna[i]=dianna[i].set_index('Date')\n",
    "    print(dianna[i].tail())"
   ]
  },
  {
   "cell_type": "code",
   "execution_count": 2,
   "metadata": {},
   "outputs": [],
   "source": [
    "##TODEL\n",
    "import pickle\n",
    "modelv2=[]\n",
    "for i in range(4):\n",
    "    reg = pickle.load(open(HOMEDIR+'versailles_'+str(i)+'.sav', 'rb'))\n",
    "    modelv2.append(reg)"
   ]
  },
  {
   "cell_type": "code",
   "execution_count": 3,
   "metadata": {},
   "outputs": [],
   "source": [
    "LOOKBACK=30\n",
    "LOOKFRONT=15"
   ]
  },
  {
   "cell_type": "markdown",
   "metadata": {},
   "source": [
    "# STEP 1: Lay foundations for the `docs` website\n",
    "Write HTML-CSS-JS code for the ML-integrated website"
   ]
  },
  {
   "cell_type": "code",
   "execution_count": 4,
   "metadata": {},
   "outputs": [
    {
     "name": "stdout",
     "output_type": "stream",
     "text": [
      "Raw HTML ready\n"
     ]
    }
   ],
   "source": [
    "docs='<!DOCTYPE html><html><head><title>H20.AI | Home</title><meta charset=\"UTF-8\"><link rel=\"icon\" href=\"https://img.icons8.com/pastel-glyph/2x/water.png\"><meta name=\"viewport\" content=\"width=device-width, initial-scale=1\"></head><link rel=\"stylesheet\" href=\"https://www.w3schools.com/w3css/4/w3.css\"><link rel=\"stylesheet\" href=\"https://fonts.googleapis.com/css?family=Raleway\"><link rel=\"stylesheet\" href=\"https://cdnjs.cloudflare.com/ajax/libs/font-awesome/4.7.0/css/font-awesome.min.css\"><style>html,body,h1,h2,h3,h4,h5{font-family:\"Raleway\", sans-serif}</style><style>.loader{border:16px solid #f3f3f3;border-radius:50%;border-top:16px solid blue;border-bottom:16px solid blue;width:120px;height:120px;-webkit-animation:spin 2s linear infinite;animation:spin 2s linear infinite}@-webkit-keyframes spin{0%{-webkit-transform:rotate(0deg);}100%{-webkit-transform:rotate(360deg);}}@keyframes spin{0%{transform:rotate(0deg);}100%{transform:rotate(360deg);}}</style><body style=\"min-height:93vh;background-color:#EEEEEE\"><div class=\"w3-bar w3-top w3-black w3-large\" style=\"z-index:4\"><button class=\"w3-bar-item w3-button w3-hide-large w3-hover-none w3-hover-text-light-grey\" onclick=\"w3_open();\"><i class=\"fa fa-bars\"></i> Menu</button><span class=\"w3-bar-item w3-right\">|<- H20.AI ->|</span></div><div class=\"w3-overlay w3-hide-large w3-animate-opacity\" onclick=\"w3_close()\" style=\"cursor:pointer\" title=\"close side menu\" id=\"myOverlay\"></div><div class=\"w3-light-grey\" class=\"w3-main\" style=\"margin-top:43px;margin-left:15%;margin-right:15%;background-color:#DDDDDD\"><div><br><br><br><h3 style=\"margin-top:10px;margin-left:1%\"><b><strong>H20.AI: </strong></B> Chennai\\'s very own AI Water Supply Manager</h3><p style=\"width:75%;margin-top:10px;margin-left:1%\">The project, built for TARP by Somya and Senthil, focuses on implementing Mathematics, Machine Learning and Artificial Intelligence to manage outflow of water from these 4 reservoirs that supply water to chennai. We will use this project as a medium to address the Chennai water crisis and mitigate its effects.<br>Please be patient while the page loads for 5-6 seconds</p><br><h5 style=\"width:75%;margin-top:10px;margin-left:1%\">Enter a <b>valid</b> date in dd/mm/yyyy format to forecast outflow</h5><form id=\"ABC\" action=\"\" method=\"GET\"><input id= \"sawd\" style=\"background-color:#EEEEEE;margin-left:1%;margin-right:1px\" name=\"nm\" type=\"text\" size=\"40%\" placeholder=\"Enter a date in dd/mm/yyyy format\"/><button style=\"color:#FFFFFF;background-color:#000000\"><b> Forecast! </b></button></form></div><br><header class=\"w3-container\" style=\"padding-top:22px\"><h5><b><i class=\"fa fa-dashboard\"></i>   Forecasted Outflow: <span id=\"o\">NaN</span></b></h5></header><div class=\"w3-row-padding w3-margin-bottom\"><div class=\"w3-quarter\"><div class=\"w3-container w3-red w3-padding-16\"><div class=\"w3-left\"></div><div class=\"w3-clear\"></div><h4><b>Chembarambaakam</b></h4><div class=\"w3-right\"><h3><span id=\"a\">-1</span> cusecs</h3></div></div></div><div class=\"w3-quarter\"><div class=\"w3-container w3-blue w3-padding-16\"><div class=\"w3-left\"></div><div class=\"w3-clear\"></div><h4><b>Cholavaram</b></h4><div class=\"w3-right\"><h3><span id=\"b\">-1</span> cusecs</h3></div></div></div><div class=\"w3-quarter\"><div class=\"w3-container w3-teal w3-padding-16\"><div class=\"w3-left\"></div><div class=\"w3-clear\"></div><h4><b>Poondi</b></h4><div class=\"w3-right\"><h3><span id=\"c\">-1</span> cusecs</h3></div></div></div><div class=\"w3-quarter\"><div class=\"w3-container w3-orange w3-text-white w3-padding-16\"><div class=\"w3-left\"></div><div class=\"w3-clear\"></div><h4><b>Redhills</b></h4><div class=\"w3-right\"><h3><span id=\"d\">-1</span> cusecs</h3></div></div></div></div><hr><br><div id=\"aqastas\" align=\"center\"style=\"padding: 10px; padding-bottom:20px; background-color: white; border: 2px dashed black;position: absolute;left:45%;bottom:45%;\"><h3>Forecasting...</h3><div class=\"loader\"></div></div></div><div class=\"w3-container w3-dark-grey w3-padding-32\"><div class=\"w3-row\"><div class=\"w3-container w3-third\"><h5 class=\"w3-bottombar w3-border-green\"><strong>©2021</strong></h5></div><div class=\"w3-container w3-third\"><h5 class=\"w3-bottombar w3-border-red\">ML + we = ♥</h5></div><div class=\"w3-container w3-third\"><h5 class=\"w3-bottombar w3-border-orange\">Contact: Somya Sheti and Senthil Kumar</h5></div></div></div><script>;</script><script src=\"//ajax.googleapis.com/ajax/libs/jquery/1.9.1/jquery.min.js\"></script></body><script>;$(document).ready(function(){$(\\'#aqastas\\').fadeOut(1);var a;$(\\'#ABC\\').submit(function(t){t.preventDefault();if(a){a.abort()};var s=$(this);$(\\'#aqastas\\').fadeIn(\"slow\");var l=s.find(\\'input, select, textarea\\'),e=s.serialize();console.log(e);$.get(\\'/_cal\\',e,function(a){console.log(\\'Response: \\'+a);res=a.split(\\',\\');$(\\'#o\\').html($(\\'#sawd\\').val());$(\\'#a\\').html(res[1]);$(\\'#b\\').html(res[2]);$(\\'#c\\').html(res[3]);$(\\'#d\\').html(res[4]);$(\\'#aqastas\\').fadeOut(\"slow\");console.log(res[5]);if(res[5]===\\'F\\')alert(\\'Reservoirs are reaching near-full capacity, possible chance of a flood if left unchecked, please stay alert and follow meteorological reports\\');else if(res[5]===\\'D\\')alert(\\'Reservoir tanks are nearing dryout, Possible chance of a drought, please save water and use minimal amount\\');})})});</script></html>'\n",
    "print('Raw HTML ready')"
   ]
  },
  {
   "cell_type": "markdown",
   "metadata": {},
   "source": [
    "# STEP 2: Build the `flask` module\n",
    "The `flask` module gets date from website, and generates optimal outflow for the given date using the **`Kanmani` ANN model**."
   ]
  },
  {
   "cell_type": "code",
   "execution_count": 5,
   "metadata": {},
   "outputs": [],
   "source": [
    "def findoccurence(n,content):\n",
    "\n",
    "    position=0\n",
    "    for i in range(0,n):\n",
    "        temp=content[content.find('<td ',position):content.find('</td>',position)]\n",
    "        #print(temp)\n",
    "        temp=temp[temp.rfind('>',0,temp.find('</font>')-1)+1:temp.find('</font>')]\n",
    "        #(temp)\n",
    "\n",
    "        position=content.find('</td>',position)+1\n",
    "    try:\n",
    "        float(temp)\n",
    "        return temp\n",
    "    except:\n",
    "        return -1\n",
    "\n",
    "def ceil(x):\n",
    "        if(x<0):\n",
    "            return 0\n",
    "        if(x-x//1>0):\n",
    "            return x//1+1\n",
    "        else:\n",
    "            return x\n",
    "        \n",
    "def flood_or_drought(lisres):\n",
    "    storagefull=[3645,881,3231,3300]\n",
    "    for i in range(4):\n",
    "        if(lisres[i]>=0.9*storagefull[i]):\n",
    "            return \"F\"\n",
    "        if(lisres[i]<=0.5*storagefull[i]):\n",
    "            return \"D\"\n",
    "    return \"N\""
   ]
  },
  {
   "cell_type": "code",
   "execution_count": null,
   "metadata": {
    "scrolled": false
   },
   "outputs": [
    {
     "name": "stdout",
     "output_type": "stream",
     "text": [
      " * Serving Flask app \"__main__\" (lazy loading)\n",
      " * Environment: production\n",
      "\u001b[31m   WARNING: This is a development server. Do not use it in a production deployment.\u001b[0m\n",
      "\u001b[2m   Use a production WSGI server instead.\u001b[0m\n",
      " * Debug mode: off\n"
     ]
    },
    {
     "name": "stderr",
     "output_type": "stream",
     "text": [
      " * Running on http://127.0.0.1:5000/ (Press CTRL+C to quit)\n",
      "127.0.0.1 - - [06/Dec/2021 11:54:33] \"\u001b[37mGET / HTTP/1.1\u001b[0m\" 200 -\n"
     ]
    },
    {
     "name": "stdout",
     "output_type": "stream",
     "text": [
      "current SPYder rezendevous: 21/03/2019\n",
      "current SPYder rezendevous: 22/03/2019\n",
      "current SPYder rezendevous: 23/03/2019\n",
      "current SPYder rezendevous: 24/03/2019\n",
      "current SPYder rezendevous: 25/03/2019\n",
      "current SPYder rezendevous: 26/03/2019\n",
      "current SPYder rezendevous: 27/03/2019\n",
      "current SPYder rezendevous: 28/03/2019\n",
      "current SPYder rezendevous: 29/03/2019\n",
      "current SPYder rezendevous: 30/03/2019\n",
      "current SPYder rezendevous: 31/03/2019\n",
      "current SPYder rezendevous: 01/04/2019\n",
      "current SPYder rezendevous: 02/04/2019\n",
      "current SPYder rezendevous: 03/04/2019\n",
      "current SPYder rezendevous: 04/04/2019\n",
      "current SPYder rezendevous: 05/04/2019\n",
      "current SPYder rezendevous: 06/04/2019\n",
      "current SPYder rezendevous: 07/04/2019\n",
      "current SPYder rezendevous: 08/04/2019\n",
      "current SPYder rezendevous: 09/04/2019\n",
      "current SPYder rezendevous: 10/04/2019\n",
      "current SPYder rezendevous: 11/04/2019\n",
      "current SPYder rezendevous: 12/04/2019\n",
      "current SPYder rezendevous: 13/04/2019\n",
      "current SPYder rezendevous: 14/04/2019\n",
      "current SPYder rezendevous: 15/04/2019\n",
      "current SPYder rezendevous: 16/04/2019\n",
      "current SPYder rezendevous: 17/04/2019\n",
      "current SPYder rezendevous: 18/04/2019\n",
      "current SPYder rezendevous: 19/04/2019\n"
     ]
    },
    {
     "name": "stderr",
     "output_type": "stream",
     "text": [
      "127.0.0.1 - - [06/Dec/2021 11:55:10] \"\u001b[37mGET /_cal?nm=05%2F05%2F2019 HTTP/1.1\u001b[0m\" 200 -\n"
     ]
    },
    {
     "name": "stdout",
     "output_type": "stream",
     "text": [
      "Output passed: ,20.0,14.0,211.0,137.0,D\n"
     ]
    }
   ],
   "source": [
    "app = Flask(__name__)\n",
    "content=''\n",
    "\n",
    "\n",
    "@app.route('/')\n",
    "def index():\n",
    "    return docs\n",
    "\n",
    "\n",
    "@app.route('/_cal')\n",
    "def runner():\n",
    "    start=0\n",
    "    lisres=list()\n",
    "    required_td=[14,15,17,16,23,24,26,25,32,33,35,34,59,60,62,61]\n",
    "    sdate = request.args.get('nm')\n",
    "    matrix=list()\n",
    "    x=datetime.strptime(sdate,'%d/%m/%Y')\n",
    "    y=x-timedelta(days=LOOKFRONT)\n",
    "    x=x-timedelta(days=LOOKBACK+LOOKFRONT)\n",
    "\n",
    "    edate=y.strftime(\"%d\")+'/'+y.strftime(\"%m\")+'/'+y.strftime(\"%Y\")\n",
    "    stringer=x.strftime(\"%d\")+'/'+x.strftime(\"%m\")+'/'+x.strftime(\"%Y\")\n",
    "    #print('target: ',edate,', start date: ',stringer)\n",
    "\n",
    "    controller=1\n",
    "    #print('Deploying SPYder, please wait...\\n(do not disconnect the net-connection or abort the process)\\n')\n",
    "    while(stringer!=edate):\n",
    "        print('current SPYder rezendevous: '+stringer)\n",
    "        diff=(x-datetime(int(x.strftime(\"%Y\")),1,1)).days\n",
    "        matrix.append([diff])\n",
    "        pointer=2\n",
    "        parameters = {'ldate':stringer}\n",
    "        r = requests.post('http://123.63.203.150/reserve3.asp', data=parameters)\n",
    "        content=r.text\n",
    "        origin=1\n",
    "        for i in required_td:\n",
    "            matrix[controller-1].append(float(findoccurence(i,content)))\n",
    "            pointer+=1\n",
    "            if((pointer-1)%5==0):\n",
    "                origin+=1\n",
    "                if(origin==5):\n",
    "                    break\n",
    "                else:\n",
    "                    controller+=1\n",
    "                    matrix.append([diff])\n",
    "                    pointer=2\n",
    "\n",
    "        x+=timedelta(days=1)\n",
    "        stringer=x.strftime(\"%d\")+'/'+x.strftime(\"%m\")+'/'+x.strftime(\"%Y\")\n",
    "        controller+=1\n",
    "\n",
    "    \n",
    "    #This part is to swap positions of reservoir data matrix values, because our model was built with CH-CZ-PN-RH dataset order\n",
    "    #Whereas, the mined data gives us PN-CZ-RH-CH order\n",
    "    for mdays in range(0,LOOKBACK):\n",
    "        temp=matrix[mdays*4]\n",
    "        matrix[mdays*4]=matrix[mdays*4+3]\n",
    "        matrix[mdays*4+3]=matrix[mdays*4+2]\n",
    "        matrix[mdays*4+2]=temp\n",
    "\n",
    "    #print(matrix)\n",
    "\n",
    "    starter=0\n",
    "    np_arr=[]\n",
    "    for reservoir_index in range(4):\n",
    "        curarr=[matrix[starter+day*4+reservoir_index] for day in range(LOOKBACK)]\n",
    "        tafler=[]\n",
    "        for day in curarr:\n",
    "            for data in day:\n",
    "                tafler.append(data)\n",
    "        #print(tafler)\n",
    "        #print(modelv2[reservoir_index].predict([tafler])[0])\n",
    "        lisres.append(modelv2[reservoir_index].predict([tafler])[0])\n",
    "        np_arr.append(np.array([curarr]))\n",
    "\n",
    "    '''\n",
    "    r=modelv2.predict([np_arr[reservoir_index] for reservoir_index in range(4)])\n",
    "\n",
    "    r=modelv2.predict([np.array([[matrix[starter],matrix[4+starter],matrix[8+starter],matrix[12+starter],matrix[16+starter]]]),\n",
    "                       np.array([[matrix[starter+1],matrix[4+starter+1],matrix[8+starter+1],matrix[12+starter+1],matrix[16+starter+1]]]),\n",
    "                       np.array([[matrix[starter+2],matrix[4+starter+2],matrix[8+starter+2],matrix[12+starter+2],matrix[16+starter+2]]]),\n",
    "                       np.array([[matrix[starter+3],matrix[4+starter+3],matrix[8+starter+3],matrix[12+starter+3],matrix[16+starter+3]]])])\n",
    "    lisres=list()\n",
    "    for ias in r:\n",
    "        lisres.append(ceil(ias[0][0]))\n",
    "        '''\n",
    "\n",
    "\n",
    "    lisres2=[ceil(x) for x in lisres]\n",
    "\n",
    "    #to prepare a return sequence : from [a,b,c,d] model output to \"a,b,c,d\" string for the website\n",
    "\n",
    "    \n",
    "    resultino=\"\";\n",
    "    for i in lisres2:\n",
    "        resultino+=(\",\"+str(i))\n",
    "    \n",
    "    resultino+=\",\"+flood_or_drought(lisres2)\n",
    "    print(\"Output passed:\",resultino)\n",
    "    return resultino\n",
    "\n",
    "if __name__ == '__main__':\n",
    "       app.run()\n"
   ]
  },
  {
   "cell_type": "code",
   "execution_count": null,
   "metadata": {},
   "outputs": [],
   "source": []
  }
 ],
 "metadata": {
  "kernelspec": {
   "display_name": "Python 3",
   "language": "python",
   "name": "python3"
  },
  "language_info": {
   "codemirror_mode": {
    "name": "ipython",
    "version": 3
   },
   "file_extension": ".py",
   "mimetype": "text/x-python",
   "name": "python",
   "nbconvert_exporter": "python",
   "pygments_lexer": "ipython3",
   "version": "3.7.7"
  }
 },
 "nbformat": 4,
 "nbformat_minor": 4
}
